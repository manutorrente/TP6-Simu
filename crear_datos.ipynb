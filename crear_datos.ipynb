{
 "cells": [
  {
   "cell_type": "code",
   "execution_count": 35,
   "metadata": {},
   "outputs": [],
   "source": [
    "from modelo import DistribucionesAleatorias\n",
    "from datetime import timedelta, datetime\n",
    "import numpy as np\n",
    "import pandas as pd"
   ]
  },
  {
   "cell_type": "code",
   "execution_count": 72,
   "metadata": {},
   "outputs": [],
   "source": [
    "d = DistribucionesAleatorias()\n",
    "datos_llegadas = [round(d.generar_proxima_llegada()*7) for _ in range(54)]\n",
    "\n",
    "factor_reduccion = 10\n",
    "fecha_actual = datetime.now().date()\n",
    "fecha_inicio = fecha_actual - timedelta(days=sum(datos_llegadas) + factor_reduccion)\n",
    "fechas = []\n",
    "for i in range(len(datos_llegadas)):\n",
    "    fechas.append(fecha_inicio)\n",
    "    fecha_inicio += timedelta(days=datos_llegadas[i])\n",
    "\n",
    "\n"
   ]
  },
  {
   "cell_type": "code",
   "execution_count": 73,
   "metadata": {},
   "outputs": [],
   "source": [
    "df = pd.DataFrame({\"Fecha\": fechas})\n",
    "df[\"Dias\"] = df[\"Fecha\"].diff().dt.days.fillna(0).astype(int)\n",
    "df = df.iloc[1:]\n",
    "df.to_csv(\"consultas.csv\", index=False)"
   ]
  },
  {
   "cell_type": "code",
   "execution_count": 80,
   "metadata": {},
   "outputs": [],
   "source": [
    "datos_honorarios = [x if x > 20 else \"-\" for x in [d.generar_monto_honorarios() for _ in range(51)]]\n",
    "\n"
   ]
  },
  {
   "cell_type": "code",
   "execution_count": 77,
   "metadata": {},
   "outputs": [],
   "source": [
    "df = pd.DataFrame({\"Honorarios\": datos_honorarios})\n",
    "df[\"honorarios_completos\"] = df[\"Honorarios\"].apply(lambda x: x if x != \"-\" else np.random.randint(8,20))\n",
    "df.to_csv(\"honorarios.csv\", index=False)"
   ]
  },
  {
   "cell_type": "code",
   "execution_count": 81,
   "metadata": {},
   "outputs": [],
   "source": [
    "duracion_terapia = [(round(d.generar_duracion_consulta()/4)) for _ in range(44)]\n"
   ]
  },
  {
   "cell_type": "code",
   "execution_count": 82,
   "metadata": {},
   "outputs": [],
   "source": [
    "df = pd.DataFrame({\"Duracion\": duracion_terapia})\n",
    "df.to_csv(\"duracionterapia.csv\", index=False)"
   ]
  }
 ],
 "metadata": {
  "kernelspec": {
   "display_name": "TP6Venv",
   "language": "python",
   "name": "python3"
  },
  "language_info": {
   "codemirror_mode": {
    "name": "ipython",
    "version": 3
   },
   "file_extension": ".py",
   "mimetype": "text/x-python",
   "name": "python",
   "nbconvert_exporter": "python",
   "pygments_lexer": "ipython3",
   "version": "3.12.3"
  }
 },
 "nbformat": 4,
 "nbformat_minor": 2
}
