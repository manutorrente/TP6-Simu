{
 "cells": [
  {
   "cell_type": "code",
   "execution_count": 2,
   "metadata": {},
   "outputs": [],
   "source": [
    "from modelo import DistribucionesAleatorias\n",
    "import fitter"
   ]
  },
  {
   "cell_type": "code",
   "execution_count": 5,
   "metadata": {},
   "outputs": [
    {
     "data": {
      "text/plain": [
       "[3, 3, 5, 2, 4, 3, 5, 4, 2, 5, 2, 3, 5, 3, 4, 2, 2, 4, 4, 4, 2, 2, 4, 2, 1]"
      ]
     },
     "execution_count": 5,
     "metadata": {},
     "output_type": "execute_result"
    }
   ],
   "source": [
    "import math\n",
    "d = DistribucionesAleatorias()\n",
    "datos_llegadas = [math.floor(d.generar_proxima_llegada()*7) for _ in range(25)]\n",
    "datos_llegadas"
   ]
  },
  {
   "cell_type": "code",
   "execution_count": 7,
   "metadata": {},
   "outputs": [
    {
     "data": {
      "text/plain": [
       "80"
      ]
     },
     "execution_count": 7,
     "metadata": {},
     "output_type": "execute_result"
    }
   ],
   "source": [
    "sum(datos_llegadas)"
   ]
  },
  {
   "cell_type": "code",
   "execution_count": 13,
   "metadata": {},
   "outputs": [
    {
     "data": {
      "text/plain": [
       "[31,\n",
       " '-',\n",
       " '-',\n",
       " '-',\n",
       " '-',\n",
       " 24,\n",
       " '-',\n",
       " '-',\n",
       " '-',\n",
       " 22,\n",
       " 21,\n",
       " '-',\n",
       " '-',\n",
       " '-',\n",
       " '-',\n",
       " '-',\n",
       " 22,\n",
       " 25,\n",
       " '-',\n",
       " '-',\n",
       " 22,\n",
       " '-',\n",
       " '-',\n",
       " 25,\n",
       " '-']"
      ]
     },
     "execution_count": 13,
     "metadata": {},
     "output_type": "execute_result"
    }
   ],
   "source": [
    "datos_honorarios = [x if x > 20 else \"-\" for x in [d.generar_monto_honorarios() for _ in range(25)]]\n",
    "datos_honorarios"
   ]
  },
  {
   "cell_type": "code",
   "execution_count": 10,
   "metadata": {},
   "outputs": [
    {
     "data": {
      "text/plain": [
       "[datetime.date(2024, 2, 11),\n",
       " datetime.date(2024, 2, 14),\n",
       " datetime.date(2024, 2, 17),\n",
       " datetime.date(2024, 2, 22),\n",
       " datetime.date(2024, 2, 24),\n",
       " datetime.date(2024, 2, 28),\n",
       " datetime.date(2024, 3, 2),\n",
       " datetime.date(2024, 3, 7),\n",
       " datetime.date(2024, 3, 11),\n",
       " datetime.date(2024, 3, 13),\n",
       " datetime.date(2024, 3, 18),\n",
       " datetime.date(2024, 3, 20),\n",
       " datetime.date(2024, 3, 23),\n",
       " datetime.date(2024, 3, 28),\n",
       " datetime.date(2024, 3, 31),\n",
       " datetime.date(2024, 4, 4),\n",
       " datetime.date(2024, 4, 6),\n",
       " datetime.date(2024, 4, 8),\n",
       " datetime.date(2024, 4, 12),\n",
       " datetime.date(2024, 4, 16),\n",
       " datetime.date(2024, 4, 20),\n",
       " datetime.date(2024, 4, 22),\n",
       " datetime.date(2024, 4, 24),\n",
       " datetime.date(2024, 4, 28),\n",
       " datetime.date(2024, 4, 30)]"
      ]
     },
     "execution_count": 10,
     "metadata": {},
     "output_type": "execute_result"
    }
   ],
   "source": [
    "from datetime import date, timedelta\n",
    "fecha_inicio = date(2024, 2, 11)\n",
    "fechas = []\n",
    "for i in range(len(datos_llegadas)):\n",
    "    fechas.append(fecha_inicio)\n",
    "    fecha_inicio += timedelta(days=datos_llegadas[i])\n",
    "fechas"
   ]
  },
  {
   "cell_type": "code",
   "execution_count": 20,
   "metadata": {},
   "outputs": [
    {
     "data": {
      "text/plain": [
       "[73, 30, 2, 59, 2, 69, 14, 49, 15, 86, 31, 29, 4, 2]"
      ]
     },
     "execution_count": 20,
     "metadata": {},
     "output_type": "execute_result"
    }
   ],
   "source": [
    "duracion_terapia = [math.ceil(d.generar_duracion_consulta()/4) for _ in range(14)]\n",
    "duracion_terapia"
   ]
  },
  {
   "cell_type": "code",
   "execution_count": 21,
   "metadata": {},
   "outputs": [],
   "source": [
    "import pandas as pd\n",
    "df = pd.DataFrame({\n",
    "    \"Fecha\": fechas,\n",
    "    \"Honorarios\": datos_honorarios\n",
    "})\n",
    "\n",
    "df.to_csv(\"consultasyhonorarios.csv\", index=False)"
   ]
  },
  {
   "cell_type": "code",
   "execution_count": 22,
   "metadata": {},
   "outputs": [],
   "source": [
    "df = pd.DataFrame({\n",
    "    \"Duracion\": duracion_terapia\n",
    "})\n",
    "\n",
    "df.to_csv(\"duracionterapia.csv\", index=False)"
   ]
  }
 ],
 "metadata": {
  "kernelspec": {
   "display_name": "TP6Venv",
   "language": "python",
   "name": "python3"
  },
  "language_info": {
   "codemirror_mode": {
    "name": "ipython",
    "version": 3
   },
   "file_extension": ".py",
   "mimetype": "text/x-python",
   "name": "python",
   "nbconvert_exporter": "python",
   "pygments_lexer": "ipython3",
   "version": "3.11.3"
  }
 },
 "nbformat": 4,
 "nbformat_minor": 2
}
